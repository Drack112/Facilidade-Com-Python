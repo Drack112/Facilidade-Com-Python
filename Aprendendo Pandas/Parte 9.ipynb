{
 "cells": [
  {
   "cell_type": "markdown",
   "id": "c0c06886-2563-4833-b0cc-ceb94689560d",
   "metadata": {},
   "source": [
    "# Dados Temporais\n",
    "\n",
    "Muitas vezes trabalhando com Dataframes, os dados são orientados de forma temporal, é importante saber manipular esse tipo de dado"
   ]
  },
  {
   "cell_type": "code",
   "execution_count": 1,
   "id": "df824be0-70f8-44a5-97ac-15866af41525",
   "metadata": {},
   "outputs": [],
   "source": [
    "import pandas as pd"
   ]
  },
  {
   "cell_type": "code",
   "execution_count": 2,
   "id": "7b15a303-0984-4a1d-b72c-dbeff265268a",
   "metadata": {},
   "outputs": [],
   "source": [
    "numero_dias = 100\n",
    "datas = pd.date_range(start='1/1/2021', periods=numero_dias)"
   ]
  },
  {
   "cell_type": "code",
   "execution_count": 3,
   "id": "8bb8dd9c-bea1-45a8-b34c-0dc8e5d5750c",
   "metadata": {},
   "outputs": [
    {
     "data": {
      "text/plain": [
       "DatetimeIndex(['2021-01-01', '2021-01-02', '2021-01-03', '2021-01-04',\n",
       "               '2021-01-05', '2021-01-06', '2021-01-07', '2021-01-08',\n",
       "               '2021-01-09', '2021-01-10', '2021-01-11', '2021-01-12',\n",
       "               '2021-01-13', '2021-01-14', '2021-01-15', '2021-01-16',\n",
       "               '2021-01-17', '2021-01-18', '2021-01-19', '2021-01-20',\n",
       "               '2021-01-21', '2021-01-22', '2021-01-23', '2021-01-24',\n",
       "               '2021-01-25', '2021-01-26', '2021-01-27', '2021-01-28',\n",
       "               '2021-01-29', '2021-01-30', '2021-01-31', '2021-02-01',\n",
       "               '2021-02-02', '2021-02-03', '2021-02-04', '2021-02-05',\n",
       "               '2021-02-06', '2021-02-07', '2021-02-08', '2021-02-09',\n",
       "               '2021-02-10', '2021-02-11', '2021-02-12', '2021-02-13',\n",
       "               '2021-02-14', '2021-02-15', '2021-02-16', '2021-02-17',\n",
       "               '2021-02-18', '2021-02-19', '2021-02-20', '2021-02-21',\n",
       "               '2021-02-22', '2021-02-23', '2021-02-24', '2021-02-25',\n",
       "               '2021-02-26', '2021-02-27', '2021-02-28', '2021-03-01',\n",
       "               '2021-03-02', '2021-03-03', '2021-03-04', '2021-03-05',\n",
       "               '2021-03-06', '2021-03-07', '2021-03-08', '2021-03-09',\n",
       "               '2021-03-10', '2021-03-11', '2021-03-12', '2021-03-13',\n",
       "               '2021-03-14', '2021-03-15', '2021-03-16', '2021-03-17',\n",
       "               '2021-03-18', '2021-03-19', '2021-03-20', '2021-03-21',\n",
       "               '2021-03-22', '2021-03-23', '2021-03-24', '2021-03-25',\n",
       "               '2021-03-26', '2021-03-27', '2021-03-28', '2021-03-29',\n",
       "               '2021-03-30', '2021-03-31', '2021-04-01', '2021-04-02',\n",
       "               '2021-04-03', '2021-04-04', '2021-04-05', '2021-04-06',\n",
       "               '2021-04-07', '2021-04-08', '2021-04-09', '2021-04-10'],\n",
       "              dtype='datetime64[ns]', freq='D')"
      ]
     },
     "execution_count": 3,
     "metadata": {},
     "output_type": "execute_result"
    }
   ],
   "source": [
    "datas"
   ]
  },
  {
   "cell_type": "code",
   "execution_count": 4,
   "id": "52761696-b697-41a5-9c47-0ded5e10926b",
   "metadata": {},
   "outputs": [],
   "source": [
    "df = pd.DataFrame(range(numero_dias), columns=['number'], index=datas)\n",
    "df.index.name = 'datas'"
   ]
  },
  {
   "cell_type": "code",
   "execution_count": 5,
   "id": "5898f086-46bc-4cc6-b30c-d2622b058d23",
   "metadata": {},
   "outputs": [
    {
     "data": {
      "text/html": [
       "<div>\n",
       "<style scoped>\n",
       "    .dataframe tbody tr th:only-of-type {\n",
       "        vertical-align: middle;\n",
       "    }\n",
       "\n",
       "    .dataframe tbody tr th {\n",
       "        vertical-align: top;\n",
       "    }\n",
       "\n",
       "    .dataframe thead th {\n",
       "        text-align: right;\n",
       "    }\n",
       "</style>\n",
       "<table border=\"1\" class=\"dataframe\">\n",
       "  <thead>\n",
       "    <tr style=\"text-align: right;\">\n",
       "      <th></th>\n",
       "      <th>number</th>\n",
       "    </tr>\n",
       "    <tr>\n",
       "      <th>datas</th>\n",
       "      <th></th>\n",
       "    </tr>\n",
       "  </thead>\n",
       "  <tbody>\n",
       "    <tr>\n",
       "      <th>2021-01-01</th>\n",
       "      <td>0</td>\n",
       "    </tr>\n",
       "    <tr>\n",
       "      <th>2021-01-02</th>\n",
       "      <td>1</td>\n",
       "    </tr>\n",
       "    <tr>\n",
       "      <th>2021-01-03</th>\n",
       "      <td>2</td>\n",
       "    </tr>\n",
       "    <tr>\n",
       "      <th>2021-01-04</th>\n",
       "      <td>3</td>\n",
       "    </tr>\n",
       "    <tr>\n",
       "      <th>2021-01-05</th>\n",
       "      <td>4</td>\n",
       "    </tr>\n",
       "    <tr>\n",
       "      <th>...</th>\n",
       "      <td>...</td>\n",
       "    </tr>\n",
       "    <tr>\n",
       "      <th>2021-04-06</th>\n",
       "      <td>95</td>\n",
       "    </tr>\n",
       "    <tr>\n",
       "      <th>2021-04-07</th>\n",
       "      <td>96</td>\n",
       "    </tr>\n",
       "    <tr>\n",
       "      <th>2021-04-08</th>\n",
       "      <td>97</td>\n",
       "    </tr>\n",
       "    <tr>\n",
       "      <th>2021-04-09</th>\n",
       "      <td>98</td>\n",
       "    </tr>\n",
       "    <tr>\n",
       "      <th>2021-04-10</th>\n",
       "      <td>99</td>\n",
       "    </tr>\n",
       "  </tbody>\n",
       "</table>\n",
       "<p>100 rows × 1 columns</p>\n",
       "</div>"
      ],
      "text/plain": [
       "            number\n",
       "datas             \n",
       "2021-01-01       0\n",
       "2021-01-02       1\n",
       "2021-01-03       2\n",
       "2021-01-04       3\n",
       "2021-01-05       4\n",
       "...            ...\n",
       "2021-04-06      95\n",
       "2021-04-07      96\n",
       "2021-04-08      97\n",
       "2021-04-09      98\n",
       "2021-04-10      99\n",
       "\n",
       "[100 rows x 1 columns]"
      ]
     },
     "execution_count": 5,
     "metadata": {},
     "output_type": "execute_result"
    }
   ],
   "source": [
    "df"
   ]
  },
  {
   "cell_type": "code",
   "execution_count": 6,
   "id": "34b0d648-cd51-499a-9796-13e3362402c2",
   "metadata": {},
   "outputs": [],
   "source": [
    "ultima_data = df.index[-1]"
   ]
  },
  {
   "cell_type": "code",
   "execution_count": 7,
   "id": "c45f5615-19fd-4363-867b-5ae52c73e887",
   "metadata": {},
   "outputs": [
    {
     "data": {
      "text/plain": [
       "Timestamp('2021-04-10 00:00:00')"
      ]
     },
     "execution_count": 7,
     "metadata": {},
     "output_type": "execute_result"
    }
   ],
   "source": [
    "ultima_data"
   ]
  },
  {
   "cell_type": "code",
   "execution_count": 9,
   "id": "e8c66f29-c8ba-4d00-8e91-181ebdd90c1f",
   "metadata": {},
   "outputs": [
    {
     "data": {
      "text/plain": [
       "'Saturday'"
      ]
     },
     "execution_count": 9,
     "metadata": {},
     "output_type": "execute_result"
    }
   ],
   "source": [
    "ultima_data.day_name()"
   ]
  },
  {
   "cell_type": "code",
   "execution_count": 10,
   "id": "efb35d82-9150-465e-9b52-8e6ae77ef441",
   "metadata": {},
   "outputs": [
    {
     "data": {
      "text/html": [
       "<div>\n",
       "<style scoped>\n",
       "    .dataframe tbody tr th:only-of-type {\n",
       "        vertical-align: middle;\n",
       "    }\n",
       "\n",
       "    .dataframe tbody tr th {\n",
       "        vertical-align: top;\n",
       "    }\n",
       "\n",
       "    .dataframe thead th {\n",
       "        text-align: right;\n",
       "    }\n",
       "</style>\n",
       "<table border=\"1\" class=\"dataframe\">\n",
       "  <thead>\n",
       "    <tr style=\"text-align: right;\">\n",
       "      <th></th>\n",
       "      <th>number</th>\n",
       "    </tr>\n",
       "    <tr>\n",
       "      <th>datas</th>\n",
       "      <th></th>\n",
       "    </tr>\n",
       "  </thead>\n",
       "  <tbody>\n",
       "    <tr>\n",
       "      <th>2021-01-01</th>\n",
       "      <td>0</td>\n",
       "    </tr>\n",
       "    <tr>\n",
       "      <th>2021-02-01</th>\n",
       "      <td>31</td>\n",
       "    </tr>\n",
       "    <tr>\n",
       "      <th>2021-03-01</th>\n",
       "      <td>59</td>\n",
       "    </tr>\n",
       "    <tr>\n",
       "      <th>2021-04-01</th>\n",
       "      <td>90</td>\n",
       "    </tr>\n",
       "  </tbody>\n",
       "</table>\n",
       "</div>"
      ],
      "text/plain": [
       "            number\n",
       "datas             \n",
       "2021-01-01       0\n",
       "2021-02-01      31\n",
       "2021-03-01      59\n",
       "2021-04-01      90"
      ]
     },
     "execution_count": 10,
     "metadata": {},
     "output_type": "execute_result"
    }
   ],
   "source": [
    "df[df.index.day==1]"
   ]
  }
 ],
 "metadata": {
  "kernelspec": {
   "display_name": "Python 3 (ipykernel)",
   "language": "python",
   "name": "python3"
  },
  "language_info": {
   "codemirror_mode": {
    "name": "ipython",
    "version": 3
   },
   "file_extension": ".py",
   "mimetype": "text/x-python",
   "name": "python",
   "nbconvert_exporter": "python",
   "pygments_lexer": "ipython3",
   "version": "3.8.16"
  }
 },
 "nbformat": 4,
 "nbformat_minor": 5
}
