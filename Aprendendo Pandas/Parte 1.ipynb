{
 "cells": [
  {
   "cell_type": "markdown",
   "id": "cda1dd0c-8d4e-4482-b914-cdc2ad6d9fcd",
   "metadata": {},
   "source": [
    "# Inicio com Pandas"
   ]
  },
  {
   "cell_type": "markdown",
   "id": "f8196d84-c2b4-4dd8-a467-a6c9fdffd224",
   "metadata": {},
   "source": [
    "Nomeclatura padrão: \n",
    "\n",
    "pd = pandas\n",
    "np = numpy"
   ]
  },
  {
   "cell_type": "code",
   "execution_count": 5,
   "id": "b61f80a3-60b5-48c6-b888-8f22b3c83e5c",
   "metadata": {},
   "outputs": [],
   "source": [
    "import pandas as pd\n",
    "import numpy as np"
   ]
  },
  {
   "cell_type": "code",
   "execution_count": 12,
   "id": "45fb5756-9c49-4e4f-b05a-10e70cac8f8d",
   "metadata": {},
   "outputs": [],
   "source": [
    "labels = ['a', 'b', 'c']\n",
    "\n",
    "minha_lista = [10,20,30]\n",
    "\n",
    "arr = np.array([10,20,30])\n",
    "\n",
    "d = {'a':10, 'b':20, 'c':30}"
   ]
  },
  {
   "cell_type": "code",
   "execution_count": 13,
   "id": "69c67488-bed7-4b12-a477-5f88e15a0a38",
   "metadata": {},
   "outputs": [
    {
     "data": {
      "text/plain": [
       "0    a\n",
       "1    b\n",
       "2    c\n",
       "dtype: object"
      ]
     },
     "execution_count": 13,
     "metadata": {},
     "output_type": "execute_result"
    }
   ],
   "source": [
    "pd.Series(labels)"
   ]
  },
  {
   "cell_type": "markdown",
   "id": "da8659a3-bce7-4327-908f-f3ae96f6ba15",
   "metadata": {},
   "source": [
    "### Indice | Data"
   ]
  },
  {
   "cell_type": "code",
   "execution_count": 14,
   "id": "ac96a4e7-a896-4729-9843-247f2562370b",
   "metadata": {},
   "outputs": [
    {
     "data": {
      "text/plain": [
       "10    a\n",
       "20    b\n",
       "30    c\n",
       "dtype: object"
      ]
     },
     "execution_count": 14,
     "metadata": {},
     "output_type": "execute_result"
    }
   ],
   "source": [
    "pd.Series(data=labels, index=minha_lista)"
   ]
  },
  {
   "cell_type": "code",
   "execution_count": 15,
   "id": "e09bc4a9-11b2-49fc-8886-54811375acb2",
   "metadata": {},
   "outputs": [
    {
     "data": {
      "text/plain": [
       "{'a': 10, 'b': 20, 'c': 30}"
      ]
     },
     "execution_count": 15,
     "metadata": {},
     "output_type": "execute_result"
    }
   ],
   "source": [
    "d"
   ]
  },
  {
   "cell_type": "markdown",
   "id": "cab5e73f-36fd-40f5-a45c-fc2b7512830d",
   "metadata": {},
   "source": [
    "### Construção de Series"
   ]
  },
  {
   "cell_type": "code",
   "execution_count": 16,
   "id": "4d282087-9612-4c01-9a42-828e8567e64f",
   "metadata": {},
   "outputs": [
    {
     "data": {
      "text/plain": [
       "a    10\n",
       "b    20\n",
       "c    30\n",
       "dtype: int64"
      ]
     },
     "execution_count": 16,
     "metadata": {},
     "output_type": "execute_result"
    }
   ],
   "source": [
    "pd.Series(d)"
   ]
  },
  {
   "cell_type": "code",
   "execution_count": 17,
   "id": "0c16ea88-271a-4e65-8f9f-da4357774278",
   "metadata": {},
   "outputs": [],
   "source": [
    "ser1 = pd.Series([1,2,3,4], index=['EUA', 'Alemanha', 'Brasil', 'Japão'])"
   ]
  },
  {
   "cell_type": "code",
   "execution_count": 18,
   "id": "3e8eedef-d50c-44a4-a12e-e6e67ddb97e2",
   "metadata": {},
   "outputs": [
    {
     "data": {
      "text/plain": [
       "EUA         1\n",
       "Alemanha    2\n",
       "Brasil      3\n",
       "Japão       4\n",
       "dtype: int64"
      ]
     },
     "execution_count": 18,
     "metadata": {},
     "output_type": "execute_result"
    }
   ],
   "source": [
    "ser1"
   ]
  },
  {
   "cell_type": "code",
   "execution_count": 20,
   "id": "2e9e604e-5ca9-478e-a4eb-f6a64728dbde",
   "metadata": {},
   "outputs": [
    {
     "data": {
      "text/plain": [
       "1"
      ]
     },
     "execution_count": 20,
     "metadata": {},
     "output_type": "execute_result"
    }
   ],
   "source": [
    "ser1['EUA']"
   ]
  },
  {
   "cell_type": "code",
   "execution_count": 21,
   "id": "71ea40d1-02d2-485c-9987-cc6048f24f20",
   "metadata": {},
   "outputs": [
    {
     "data": {
      "text/plain": [
       "Alemanha    2\n",
       "EUA         1\n",
       "dtype: int64"
      ]
     },
     "execution_count": 21,
     "metadata": {},
     "output_type": "execute_result"
    }
   ],
   "source": [
    "ser1[['Alemanha', 'EUA']]"
   ]
  },
  {
   "cell_type": "code",
   "execution_count": null,
   "id": "5f38f68b-ee79-4f5e-8776-74ef9cc591ea",
   "metadata": {},
   "outputs": [],
   "source": []
  }
 ],
 "metadata": {
  "kernelspec": {
   "display_name": "Python 3 (ipykernel)",
   "language": "python",
   "name": "python3"
  },
  "language_info": {
   "codemirror_mode": {
    "name": "ipython",
    "version": 3
   },
   "file_extension": ".py",
   "mimetype": "text/x-python",
   "name": "python",
   "nbconvert_exporter": "python",
   "pygments_lexer": "ipython3",
   "version": "3.8.16"
  }
 },
 "nbformat": 4,
 "nbformat_minor": 5
}
