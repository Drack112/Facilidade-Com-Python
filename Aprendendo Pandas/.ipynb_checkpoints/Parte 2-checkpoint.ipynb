{
 "cells": [
  {
   "cell_type": "markdown",
   "id": "ac91e996-19be-45b9-9643-e76585a02472",
   "metadata": {},
   "source": [
    "# DataFrames"
   ]
  },
  {
   "cell_type": "code",
   "execution_count": 8,
   "id": "910819c7-22ed-495f-87f1-cde28a33e03f",
   "metadata": {},
   "outputs": [],
   "source": [
    "### Pacote para operações matematicas\n",
    "from numpy.random import randn\n",
    "import pandas as pd"
   ]
  },
  {
   "cell_type": "code",
   "execution_count": 9,
   "id": "1e4f8048-42c0-4501-9258-9a934bba3deb",
   "metadata": {},
   "outputs": [],
   "source": [
    "# Gera números aleatórios\n",
    "\n",
    "df = pd.DataFrame(randn(5, 4), index=[\"A\", \"B\", \"C\", \"D\", \"E\"], columns=\"W X Y Z\".split())"
   ]
  },
  {
   "cell_type": "code",
   "execution_count": 10,
   "id": "e3803b3f-991a-41a4-9055-7dbe65881892",
   "metadata": {},
   "outputs": [
    {
     "data": {
      "text/html": [
       "<div>\n",
       "<style scoped>\n",
       "    .dataframe tbody tr th:only-of-type {\n",
       "        vertical-align: middle;\n",
       "    }\n",
       "\n",
       "    .dataframe tbody tr th {\n",
       "        vertical-align: top;\n",
       "    }\n",
       "\n",
       "    .dataframe thead th {\n",
       "        text-align: right;\n",
       "    }\n",
       "</style>\n",
       "<table border=\"1\" class=\"dataframe\">\n",
       "  <thead>\n",
       "    <tr style=\"text-align: right;\">\n",
       "      <th></th>\n",
       "      <th>W</th>\n",
       "      <th>X</th>\n",
       "      <th>Y</th>\n",
       "      <th>Z</th>\n",
       "    </tr>\n",
       "  </thead>\n",
       "  <tbody>\n",
       "    <tr>\n",
       "      <th>A</th>\n",
       "      <td>1.807470</td>\n",
       "      <td>1.014295</td>\n",
       "      <td>0.219789</td>\n",
       "      <td>-2.365773</td>\n",
       "    </tr>\n",
       "    <tr>\n",
       "      <th>B</th>\n",
       "      <td>1.353569</td>\n",
       "      <td>-0.888794</td>\n",
       "      <td>0.194982</td>\n",
       "      <td>-0.184819</td>\n",
       "    </tr>\n",
       "    <tr>\n",
       "      <th>C</th>\n",
       "      <td>0.690196</td>\n",
       "      <td>2.010317</td>\n",
       "      <td>1.313582</td>\n",
       "      <td>-0.791648</td>\n",
       "    </tr>\n",
       "    <tr>\n",
       "      <th>D</th>\n",
       "      <td>-0.821683</td>\n",
       "      <td>-0.641869</td>\n",
       "      <td>0.016151</td>\n",
       "      <td>-0.654940</td>\n",
       "    </tr>\n",
       "    <tr>\n",
       "      <th>E</th>\n",
       "      <td>-0.352104</td>\n",
       "      <td>0.431172</td>\n",
       "      <td>0.605328</td>\n",
       "      <td>0.636274</td>\n",
       "    </tr>\n",
       "  </tbody>\n",
       "</table>\n",
       "</div>"
      ],
      "text/plain": [
       "          W         X         Y         Z\n",
       "A  1.807470  1.014295  0.219789 -2.365773\n",
       "B  1.353569 -0.888794  0.194982 -0.184819\n",
       "C  0.690196  2.010317  1.313582 -0.791648\n",
       "D -0.821683 -0.641869  0.016151 -0.654940\n",
       "E -0.352104  0.431172  0.605328  0.636274"
      ]
     },
     "execution_count": 10,
     "metadata": {},
     "output_type": "execute_result"
    }
   ],
   "source": [
    "df"
   ]
  },
  {
   "cell_type": "code",
   "execution_count": 11,
   "id": "b39d6143-f337-4e36-be05-0c88d99d2386",
   "metadata": {},
   "outputs": [
    {
     "data": {
      "text/plain": [
       "A    1.807470\n",
       "B    1.353569\n",
       "C    0.690196\n",
       "D   -0.821683\n",
       "E   -0.352104\n",
       "Name: W, dtype: float64"
      ]
     },
     "execution_count": 11,
     "metadata": {},
     "output_type": "execute_result"
    }
   ],
   "source": [
    "df[\"W\"]"
   ]
  },
  {
   "cell_type": "code",
   "execution_count": 13,
   "id": "31d4688b-6fdb-4ac1-9942-a6bd8962f344",
   "metadata": {},
   "outputs": [
    {
     "data": {
      "text/plain": [
       "pandas.core.series.Series"
      ]
     },
     "execution_count": 13,
     "metadata": {},
     "output_type": "execute_result"
    }
   ],
   "source": [
    "type(df['W'])\n"
   ]
  },
  {
   "cell_type": "code",
   "execution_count": 14,
   "id": "748e893e-52fa-499d-a3dd-a41f9c15e9fd",
   "metadata": {},
   "outputs": [
    {
     "data": {
      "text/plain": [
       "pandas.core.frame.DataFrame"
      ]
     },
     "execution_count": 14,
     "metadata": {},
     "output_type": "execute_result"
    }
   ],
   "source": [
    "type(df)"
   ]
  },
  {
   "cell_type": "code",
   "execution_count": 15,
   "id": "c24c17a1-5c8e-4ae8-9c2f-c76a8b1e36e8",
   "metadata": {},
   "outputs": [
    {
     "data": {
      "text/html": [
       "<div>\n",
       "<style scoped>\n",
       "    .dataframe tbody tr th:only-of-type {\n",
       "        vertical-align: middle;\n",
       "    }\n",
       "\n",
       "    .dataframe tbody tr th {\n",
       "        vertical-align: top;\n",
       "    }\n",
       "\n",
       "    .dataframe thead th {\n",
       "        text-align: right;\n",
       "    }\n",
       "</style>\n",
       "<table border=\"1\" class=\"dataframe\">\n",
       "  <thead>\n",
       "    <tr style=\"text-align: right;\">\n",
       "      <th></th>\n",
       "      <th>W</th>\n",
       "    </tr>\n",
       "  </thead>\n",
       "  <tbody>\n",
       "    <tr>\n",
       "      <th>A</th>\n",
       "      <td>1.807470</td>\n",
       "    </tr>\n",
       "    <tr>\n",
       "      <th>B</th>\n",
       "      <td>1.353569</td>\n",
       "    </tr>\n",
       "    <tr>\n",
       "      <th>C</th>\n",
       "      <td>0.690196</td>\n",
       "    </tr>\n",
       "    <tr>\n",
       "      <th>D</th>\n",
       "      <td>-0.821683</td>\n",
       "    </tr>\n",
       "    <tr>\n",
       "      <th>E</th>\n",
       "      <td>-0.352104</td>\n",
       "    </tr>\n",
       "  </tbody>\n",
       "</table>\n",
       "</div>"
      ],
      "text/plain": [
       "          W\n",
       "A  1.807470\n",
       "B  1.353569\n",
       "C  0.690196\n",
       "D -0.821683\n",
       "E -0.352104"
      ]
     },
     "execution_count": 15,
     "metadata": {},
     "output_type": "execute_result"
    }
   ],
   "source": [
    "df[[\"W\"]]"
   ]
  },
  {
   "cell_type": "code",
   "execution_count": 16,
   "id": "46e28586-8af0-4e74-baf7-74c772901a6d",
   "metadata": {},
   "outputs": [],
   "source": [
    "df['new'] = df[\"W\"]"
   ]
  },
  {
   "cell_type": "code",
   "execution_count": 17,
   "id": "56283a31-414e-4c5b-98e4-9a485fa50d97",
   "metadata": {},
   "outputs": [
    {
     "data": {
      "text/html": [
       "<div>\n",
       "<style scoped>\n",
       "    .dataframe tbody tr th:only-of-type {\n",
       "        vertical-align: middle;\n",
       "    }\n",
       "\n",
       "    .dataframe tbody tr th {\n",
       "        vertical-align: top;\n",
       "    }\n",
       "\n",
       "    .dataframe thead th {\n",
       "        text-align: right;\n",
       "    }\n",
       "</style>\n",
       "<table border=\"1\" class=\"dataframe\">\n",
       "  <thead>\n",
       "    <tr style=\"text-align: right;\">\n",
       "      <th></th>\n",
       "      <th>W</th>\n",
       "      <th>X</th>\n",
       "      <th>Y</th>\n",
       "      <th>Z</th>\n",
       "      <th>new</th>\n",
       "    </tr>\n",
       "  </thead>\n",
       "  <tbody>\n",
       "    <tr>\n",
       "      <th>A</th>\n",
       "      <td>1.807470</td>\n",
       "      <td>1.014295</td>\n",
       "      <td>0.219789</td>\n",
       "      <td>-2.365773</td>\n",
       "      <td>1.807470</td>\n",
       "    </tr>\n",
       "    <tr>\n",
       "      <th>B</th>\n",
       "      <td>1.353569</td>\n",
       "      <td>-0.888794</td>\n",
       "      <td>0.194982</td>\n",
       "      <td>-0.184819</td>\n",
       "      <td>1.353569</td>\n",
       "    </tr>\n",
       "    <tr>\n",
       "      <th>C</th>\n",
       "      <td>0.690196</td>\n",
       "      <td>2.010317</td>\n",
       "      <td>1.313582</td>\n",
       "      <td>-0.791648</td>\n",
       "      <td>0.690196</td>\n",
       "    </tr>\n",
       "    <tr>\n",
       "      <th>D</th>\n",
       "      <td>-0.821683</td>\n",
       "      <td>-0.641869</td>\n",
       "      <td>0.016151</td>\n",
       "      <td>-0.654940</td>\n",
       "      <td>-0.821683</td>\n",
       "    </tr>\n",
       "    <tr>\n",
       "      <th>E</th>\n",
       "      <td>-0.352104</td>\n",
       "      <td>0.431172</td>\n",
       "      <td>0.605328</td>\n",
       "      <td>0.636274</td>\n",
       "      <td>-0.352104</td>\n",
       "    </tr>\n",
       "  </tbody>\n",
       "</table>\n",
       "</div>"
      ],
      "text/plain": [
       "          W         X         Y         Z       new\n",
       "A  1.807470  1.014295  0.219789 -2.365773  1.807470\n",
       "B  1.353569 -0.888794  0.194982 -0.184819  1.353569\n",
       "C  0.690196  2.010317  1.313582 -0.791648  0.690196\n",
       "D -0.821683 -0.641869  0.016151 -0.654940 -0.821683\n",
       "E -0.352104  0.431172  0.605328  0.636274 -0.352104"
      ]
     },
     "execution_count": 17,
     "metadata": {},
     "output_type": "execute_result"
    }
   ],
   "source": [
    "df"
   ]
  },
  {
   "cell_type": "code",
   "execution_count": 18,
   "id": "5f7929dc-1543-428a-87d4-09ec3339b055",
   "metadata": {},
   "outputs": [],
   "source": [
    "df['new'] = df[\"W\"] + df[\"X\"]"
   ]
  },
  {
   "cell_type": "code",
   "execution_count": 19,
   "id": "e0dbef06-6ea9-4314-b952-0080db2a4b8e",
   "metadata": {},
   "outputs": [
    {
     "data": {
      "text/html": [
       "<div>\n",
       "<style scoped>\n",
       "    .dataframe tbody tr th:only-of-type {\n",
       "        vertical-align: middle;\n",
       "    }\n",
       "\n",
       "    .dataframe tbody tr th {\n",
       "        vertical-align: top;\n",
       "    }\n",
       "\n",
       "    .dataframe thead th {\n",
       "        text-align: right;\n",
       "    }\n",
       "</style>\n",
       "<table border=\"1\" class=\"dataframe\">\n",
       "  <thead>\n",
       "    <tr style=\"text-align: right;\">\n",
       "      <th></th>\n",
       "      <th>W</th>\n",
       "      <th>X</th>\n",
       "      <th>Y</th>\n",
       "      <th>Z</th>\n",
       "      <th>new</th>\n",
       "    </tr>\n",
       "  </thead>\n",
       "  <tbody>\n",
       "    <tr>\n",
       "      <th>A</th>\n",
       "      <td>1.807470</td>\n",
       "      <td>1.014295</td>\n",
       "      <td>0.219789</td>\n",
       "      <td>-2.365773</td>\n",
       "      <td>2.821766</td>\n",
       "    </tr>\n",
       "    <tr>\n",
       "      <th>B</th>\n",
       "      <td>1.353569</td>\n",
       "      <td>-0.888794</td>\n",
       "      <td>0.194982</td>\n",
       "      <td>-0.184819</td>\n",
       "      <td>0.464775</td>\n",
       "    </tr>\n",
       "    <tr>\n",
       "      <th>C</th>\n",
       "      <td>0.690196</td>\n",
       "      <td>2.010317</td>\n",
       "      <td>1.313582</td>\n",
       "      <td>-0.791648</td>\n",
       "      <td>2.700513</td>\n",
       "    </tr>\n",
       "    <tr>\n",
       "      <th>D</th>\n",
       "      <td>-0.821683</td>\n",
       "      <td>-0.641869</td>\n",
       "      <td>0.016151</td>\n",
       "      <td>-0.654940</td>\n",
       "      <td>-1.463551</td>\n",
       "    </tr>\n",
       "    <tr>\n",
       "      <th>E</th>\n",
       "      <td>-0.352104</td>\n",
       "      <td>0.431172</td>\n",
       "      <td>0.605328</td>\n",
       "      <td>0.636274</td>\n",
       "      <td>0.079068</td>\n",
       "    </tr>\n",
       "  </tbody>\n",
       "</table>\n",
       "</div>"
      ],
      "text/plain": [
       "          W         X         Y         Z       new\n",
       "A  1.807470  1.014295  0.219789 -2.365773  2.821766\n",
       "B  1.353569 -0.888794  0.194982 -0.184819  0.464775\n",
       "C  0.690196  2.010317  1.313582 -0.791648  2.700513\n",
       "D -0.821683 -0.641869  0.016151 -0.654940 -1.463551\n",
       "E -0.352104  0.431172  0.605328  0.636274  0.079068"
      ]
     },
     "execution_count": 19,
     "metadata": {},
     "output_type": "execute_result"
    }
   ],
   "source": [
    "df"
   ]
  },
  {
   "cell_type": "code",
   "execution_count": 20,
   "id": "f3b26fca-c93a-4ff3-b4cc-fe63d56118c3",
   "metadata": {},
   "outputs": [],
   "source": [
    "del df[\"new\"]"
   ]
  },
  {
   "cell_type": "code",
   "execution_count": 21,
   "id": "8ea545f8-dc93-4042-920b-4547b0d42cfe",
   "metadata": {},
   "outputs": [],
   "source": [
    "df['new'] = df[\"W\"] + df[\"X\"]"
   ]
  },
  {
   "cell_type": "markdown",
   "id": "971ea5a5-a875-4e0a-84ce-17a443b43770",
   "metadata": {},
   "source": [
    "Nesse caso de drop, ele irá manipular uma cópia, até porque exibindo o df de novo, ele irá retornar o mesmo dataframe acima"
   ]
  },
  {
   "cell_type": "code",
   "execution_count": 22,
   "id": "5d0851e2-b497-4f06-8d3b-e7966a09b14b",
   "metadata": {},
   "outputs": [
    {
     "data": {
      "text/html": [
       "<div>\n",
       "<style scoped>\n",
       "    .dataframe tbody tr th:only-of-type {\n",
       "        vertical-align: middle;\n",
       "    }\n",
       "\n",
       "    .dataframe tbody tr th {\n",
       "        vertical-align: top;\n",
       "    }\n",
       "\n",
       "    .dataframe thead th {\n",
       "        text-align: right;\n",
       "    }\n",
       "</style>\n",
       "<table border=\"1\" class=\"dataframe\">\n",
       "  <thead>\n",
       "    <tr style=\"text-align: right;\">\n",
       "      <th></th>\n",
       "      <th>W</th>\n",
       "      <th>X</th>\n",
       "      <th>Y</th>\n",
       "      <th>Z</th>\n",
       "    </tr>\n",
       "  </thead>\n",
       "  <tbody>\n",
       "    <tr>\n",
       "      <th>A</th>\n",
       "      <td>1.807470</td>\n",
       "      <td>1.014295</td>\n",
       "      <td>0.219789</td>\n",
       "      <td>-2.365773</td>\n",
       "    </tr>\n",
       "    <tr>\n",
       "      <th>B</th>\n",
       "      <td>1.353569</td>\n",
       "      <td>-0.888794</td>\n",
       "      <td>0.194982</td>\n",
       "      <td>-0.184819</td>\n",
       "    </tr>\n",
       "    <tr>\n",
       "      <th>C</th>\n",
       "      <td>0.690196</td>\n",
       "      <td>2.010317</td>\n",
       "      <td>1.313582</td>\n",
       "      <td>-0.791648</td>\n",
       "    </tr>\n",
       "    <tr>\n",
       "      <th>D</th>\n",
       "      <td>-0.821683</td>\n",
       "      <td>-0.641869</td>\n",
       "      <td>0.016151</td>\n",
       "      <td>-0.654940</td>\n",
       "    </tr>\n",
       "    <tr>\n",
       "      <th>E</th>\n",
       "      <td>-0.352104</td>\n",
       "      <td>0.431172</td>\n",
       "      <td>0.605328</td>\n",
       "      <td>0.636274</td>\n",
       "    </tr>\n",
       "  </tbody>\n",
       "</table>\n",
       "</div>"
      ],
      "text/plain": [
       "          W         X         Y         Z\n",
       "A  1.807470  1.014295  0.219789 -2.365773\n",
       "B  1.353569 -0.888794  0.194982 -0.184819\n",
       "C  0.690196  2.010317  1.313582 -0.791648\n",
       "D -0.821683 -0.641869  0.016151 -0.654940\n",
       "E -0.352104  0.431172  0.605328  0.636274"
      ]
     },
     "execution_count": 22,
     "metadata": {},
     "output_type": "execute_result"
    }
   ],
   "source": [
    "df.drop('new', axis=1)"
   ]
  },
  {
   "cell_type": "code",
   "execution_count": 23,
   "id": "a2c57261-89a8-492a-b078-7e396aef497e",
   "metadata": {},
   "outputs": [
    {
     "data": {
      "text/html": [
       "<div>\n",
       "<style scoped>\n",
       "    .dataframe tbody tr th:only-of-type {\n",
       "        vertical-align: middle;\n",
       "    }\n",
       "\n",
       "    .dataframe tbody tr th {\n",
       "        vertical-align: top;\n",
       "    }\n",
       "\n",
       "    .dataframe thead th {\n",
       "        text-align: right;\n",
       "    }\n",
       "</style>\n",
       "<table border=\"1\" class=\"dataframe\">\n",
       "  <thead>\n",
       "    <tr style=\"text-align: right;\">\n",
       "      <th></th>\n",
       "      <th>W</th>\n",
       "      <th>X</th>\n",
       "      <th>Y</th>\n",
       "      <th>Z</th>\n",
       "      <th>new</th>\n",
       "    </tr>\n",
       "  </thead>\n",
       "  <tbody>\n",
       "    <tr>\n",
       "      <th>A</th>\n",
       "      <td>1.807470</td>\n",
       "      <td>1.014295</td>\n",
       "      <td>0.219789</td>\n",
       "      <td>-2.365773</td>\n",
       "      <td>2.821766</td>\n",
       "    </tr>\n",
       "    <tr>\n",
       "      <th>B</th>\n",
       "      <td>1.353569</td>\n",
       "      <td>-0.888794</td>\n",
       "      <td>0.194982</td>\n",
       "      <td>-0.184819</td>\n",
       "      <td>0.464775</td>\n",
       "    </tr>\n",
       "    <tr>\n",
       "      <th>C</th>\n",
       "      <td>0.690196</td>\n",
       "      <td>2.010317</td>\n",
       "      <td>1.313582</td>\n",
       "      <td>-0.791648</td>\n",
       "      <td>2.700513</td>\n",
       "    </tr>\n",
       "    <tr>\n",
       "      <th>D</th>\n",
       "      <td>-0.821683</td>\n",
       "      <td>-0.641869</td>\n",
       "      <td>0.016151</td>\n",
       "      <td>-0.654940</td>\n",
       "      <td>-1.463551</td>\n",
       "    </tr>\n",
       "    <tr>\n",
       "      <th>E</th>\n",
       "      <td>-0.352104</td>\n",
       "      <td>0.431172</td>\n",
       "      <td>0.605328</td>\n",
       "      <td>0.636274</td>\n",
       "      <td>0.079068</td>\n",
       "    </tr>\n",
       "  </tbody>\n",
       "</table>\n",
       "</div>"
      ],
      "text/plain": [
       "          W         X         Y         Z       new\n",
       "A  1.807470  1.014295  0.219789 -2.365773  2.821766\n",
       "B  1.353569 -0.888794  0.194982 -0.184819  0.464775\n",
       "C  0.690196  2.010317  1.313582 -0.791648  2.700513\n",
       "D -0.821683 -0.641869  0.016151 -0.654940 -1.463551\n",
       "E -0.352104  0.431172  0.605328  0.636274  0.079068"
      ]
     },
     "execution_count": 23,
     "metadata": {},
     "output_type": "execute_result"
    }
   ],
   "source": [
    "df"
   ]
  },
  {
   "cell_type": "code",
   "execution_count": 25,
   "id": "d1e76f6c-ddfc-42e8-a87e-53e0fd7ba5ec",
   "metadata": {},
   "outputs": [],
   "source": [
    "df.drop('new', axis=1, inplace=True)"
   ]
  },
  {
   "cell_type": "code",
   "execution_count": 26,
   "id": "b821f6d9-561c-4345-b69d-dcb6b4586cc2",
   "metadata": {},
   "outputs": [
    {
     "data": {
      "text/plain": [
       "W    1.807470\n",
       "X    1.014295\n",
       "Y    0.219789\n",
       "Z   -2.365773\n",
       "Name: A, dtype: float64"
      ]
     },
     "execution_count": 26,
     "metadata": {},
     "output_type": "execute_result"
    }
   ],
   "source": [
    "df.loc['A']"
   ]
  },
  {
   "cell_type": "code",
   "execution_count": 27,
   "id": "31b5739b-ee87-437a-82a3-2e21e86a3ef7",
   "metadata": {},
   "outputs": [
    {
     "data": {
      "text/plain": [
       "0.21978884987752378"
      ]
     },
     "execution_count": 27,
     "metadata": {},
     "output_type": "execute_result"
    }
   ],
   "source": [
    "df.iloc[0, 2]"
   ]
  },
  {
   "cell_type": "code",
   "execution_count": null,
   "id": "d9b22469-742c-40f2-aa98-9ac11f6312dc",
   "metadata": {},
   "outputs": [],
   "source": []
  }
 ],
 "metadata": {
  "kernelspec": {
   "display_name": "Python 3 (ipykernel)",
   "language": "python",
   "name": "python3"
  },
  "language_info": {
   "codemirror_mode": {
    "name": "ipython",
    "version": 3
   },
   "file_extension": ".py",
   "mimetype": "text/x-python",
   "name": "python",
   "nbconvert_exporter": "python",
   "pygments_lexer": "ipython3",
   "version": "3.8.16"
  }
 },
 "nbformat": 4,
 "nbformat_minor": 5
}
