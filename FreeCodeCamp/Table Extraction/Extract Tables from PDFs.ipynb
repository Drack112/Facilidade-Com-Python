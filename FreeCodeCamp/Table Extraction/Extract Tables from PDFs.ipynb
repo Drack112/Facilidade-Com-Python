{
 "cells": [
  {
   "cell_type": "markdown",
   "id": "be11b699",
   "metadata": {},
   "source": [
    "## Extract Tables from PDFs"
   ]
  },
  {
   "cell_type": "code",
   "execution_count": 6,
   "id": "1be54dee",
   "metadata": {},
   "outputs": [
    {
     "ename": "AttributeError",
     "evalue": "module 'camelot' has no attribute 'read_pdf'",
     "output_type": "error",
     "traceback": [
      "\u001b[0;31m---------------------------------------------------------------------------\u001b[0m",
      "\u001b[0;31mAttributeError\u001b[0m                            Traceback (most recent call last)",
      "Input \u001b[0;32mIn [6]\u001b[0m, in \u001b[0;36m<cell line: 3>\u001b[0;34m()\u001b[0m\n\u001b[1;32m      1\u001b[0m \u001b[38;5;28;01mimport\u001b[39;00m \u001b[38;5;21;01mcamelot\u001b[39;00m\n\u001b[0;32m----> 3\u001b[0m tables \u001b[38;5;241m=\u001b[39m \u001b[43mcamelot\u001b[49m\u001b[38;5;241;43m.\u001b[39;49m\u001b[43mread_pdf\u001b[49m(\u001b[38;5;124m'\u001b[39m\u001b[38;5;124mfoo.pdf\u001b[39m\u001b[38;5;124m'\u001b[39m, pages\u001b[38;5;241m=\u001b[39m\u001b[38;5;124m'\u001b[39m\u001b[38;5;124m1\u001b[39m\u001b[38;5;124m'\u001b[39m, flavor\u001b[38;5;241m=\u001b[39m\u001b[38;5;124m'\u001b[39m\u001b[38;5;124mlattice\u001b[39m\u001b[38;5;124m'\u001b[39m)\n\u001b[1;32m      4\u001b[0m \u001b[38;5;28mprint\u001b[39m(tables)\n",
      "\u001b[0;31mAttributeError\u001b[0m: module 'camelot' has no attribute 'read_pdf'"
     ]
    }
   ],
   "source": [
    "import camelot\n",
    "\n",
    "tables = camelot.read_pdf('foo.pdf', pages='1', flavor='lattice')\n",
    "print(tables)\n",
    "\n",
    "tables.export('foo.csv', f='csv', compress=True)\n",
    "tables[0].to_csv('foo.csv')  # to a csv file\n",
    "print(tables[0].df)"
   ]
  },
  {
   "cell_type": "code",
   "execution_count": null,
   "id": "7b577a49",
   "metadata": {},
   "outputs": [],
   "source": []
  }
 ],
 "metadata": {
  "kernelspec": {
   "display_name": "Python 3 (ipykernel)",
   "language": "python",
   "name": "python3"
  },
  "language_info": {
   "codemirror_mode": {
    "name": "ipython",
    "version": 3
   },
   "file_extension": ".py",
   "mimetype": "text/x-python",
   "name": "python",
   "nbconvert_exporter": "python",
   "pygments_lexer": "ipython3",
   "version": "3.10.4"
  }
 },
 "nbformat": 4,
 "nbformat_minor": 5
}
